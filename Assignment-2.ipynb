{
 "cells": [
  {
   "cell_type": "code",
   "execution_count": 470,
   "metadata": {},
   "outputs": [],
   "source": [
    "import numpy as np"
   ]
  },
  {
   "cell_type": "markdown",
   "metadata": {},
   "source": [
    "The equations are as follow:\n",
    "                                            \n",
    "3 x1 − 0.1 x2 − 0.2 x3 = 7.85\n",
    "\n",
    "0.1 x1 + 7 x2 − 0.3 x3 = −19.3\n",
    "\n",
    "0.3 x1     − 0.2 x2 − 10 x3 = 71.4"
   ]
  },
  {
   "cell_type": "code",
   "execution_count": 471,
   "metadata": {},
   "outputs": [],
   "source": [
    "def matrix(n):\n",
    "    a = np.zeros((n,n))\n",
    "    for i in range(n):\n",
    "        for j in range(n):\n",
    "            a[i,j] = float(input())\n",
    "    return a"
   ]
  },
  {
   "cell_type": "code",
   "execution_count": 472,
   "metadata": {},
   "outputs": [],
   "source": [
    "def b(n):\n",
    "    a = np.zeros((3,1))\n",
    "    for i in range(n):\n",
    "        a[i,0]=float(input())\n",
    "    return a"
   ]
  },
  {
   "cell_type": "code",
   "execution_count": 473,
   "metadata": {},
   "outputs": [],
   "source": [
    "n= 3\n",
    "# m = matrix(n)\n",
    "# b = b(n)  \n",
    "# If you want to change the values then use this function "
   ]
  },
  {
   "cell_type": "code",
   "execution_count": 474,
   "metadata": {},
   "outputs": [],
   "source": [
    "m = np.array([[  3. ,  -0.1,  -0.2],\n",
    "       [  0.1,   7. ,  -0.3],\n",
    "       [  0.3,  -0.2, -10. ]])\n",
    "\n",
    "b = np.array([[  7.85],\n",
    "       [-19.3 ],\n",
    "       [ 71.4 ]])"
   ]
  },
  {
   "cell_type": "code",
   "execution_count": 475,
   "metadata": {},
   "outputs": [
    {
     "data": {
      "text/plain": [
       "array([[  3. ,  -0.1,  -0.2],\n",
       "       [  0.1,   7. ,  -0.3],\n",
       "       [  0.3,  -0.2, -10. ]])"
      ]
     },
     "execution_count": 475,
     "metadata": {},
     "output_type": "execute_result"
    }
   ],
   "source": [
    "mat = m.copy()\n",
    "mat"
   ]
  },
  {
   "cell_type": "code",
   "execution_count": 476,
   "metadata": {},
   "outputs": [
    {
     "data": {
      "text/plain": [
       "array([[  7.85],\n",
       "       [-19.3 ],\n",
       "       [ 71.4 ]])"
      ]
     },
     "execution_count": 476,
     "metadata": {},
     "output_type": "execute_result"
    }
   ],
   "source": [
    "b1 = b.copy()\n",
    "b1"
   ]
  },
  {
   "cell_type": "markdown",
   "metadata": {},
   "source": [
    "Write a program to employ Naive Gauss elimination to get the solution.\n",
    "Print all matrices at all the step of elimination. Check your answers by substituting them into the original\n",
    "equation. Count the number of FLOPs required in this."
   ]
  },
  {
   "cell_type": "code",
   "execution_count": 477,
   "metadata": {},
   "outputs": [],
   "source": [
    "def naive_gauss_elim(m): \n",
    "    n, n = m.shape   \n",
    "    f = 0\n",
    "    for i in range(n-1):\n",
    "        for j in range(i+1,n):\n",
    "            fact = m[j,i]/m[i,i]\n",
    "            f += 1\n",
    "            for k in range(i,n):\n",
    "                m[j,k] = m[j,k] - fact * m[i,k]\n",
    "                f += 2\n",
    "            b1[j] = b1[j] - fact * b1[i]\n",
    "            f += 2\n",
    "    return m, f"
   ]
  },
  {
   "cell_type": "code",
   "execution_count": 478,
   "metadata": {},
   "outputs": [
    {
     "data": {
      "text/plain": [
       "array([[ 3.        , -0.1       , -0.2       ],\n",
       "       [ 0.        ,  7.00333333, -0.29333333],\n",
       "       [ 0.        ,  0.        , -9.98795812]])"
      ]
     },
     "execution_count": 478,
     "metadata": {},
     "output_type": "execute_result"
    }
   ],
   "source": [
    "mat1, flop1 = naive_gauss_elim(mat)\n",
    "mat1"
   ]
  },
  {
   "cell_type": "code",
   "execution_count": 479,
   "metadata": {},
   "outputs": [
    {
     "data": {
      "text/plain": [
       "array([[  7.85      ],\n",
       "       [-19.56166667],\n",
       "       [ 70.08429319]])"
      ]
     },
     "execution_count": 479,
     "metadata": {},
     "output_type": "execute_result"
    }
   ],
   "source": [
    "b1"
   ]
  },
  {
   "cell_type": "code",
   "execution_count": 480,
   "metadata": {},
   "outputs": [],
   "source": [
    "def backward(mat,b):\n",
    "        f=0\n",
    "        x = np.zeros((n,1))\n",
    "        for i in range(n):\n",
    "                x[n-1-i] = (b[n-1-i] - np.dot(mat[n-1-i, n-i:] ,x[n-i:])) / mat[n-1-i, n-1-i]\n",
    "                f += 3 # 1 sub 1 div 1 in dot product\n",
    "        return x, f"
   ]
  },
  {
   "cell_type": "code",
   "execution_count": 481,
   "metadata": {},
   "outputs": [
    {
     "data": {
      "text/plain": [
       "array([[ 2.04597159],\n",
       "       [-3.08709441],\n",
       "       [-7.01687896]])"
      ]
     },
     "execution_count": 481,
     "metadata": {},
     "output_type": "execute_result"
    }
   ],
   "source": [
    "x1, flop2 = backward(mat1, b1)\n",
    "x1"
   ]
  },
  {
   "cell_type": "code",
   "execution_count": 482,
   "metadata": {},
   "outputs": [
    {
     "name": "stdout",
     "output_type": "stream",
     "text": [
      "Total FLOPs are 34\n"
     ]
    }
   ],
   "source": [
    "print(f\"Total FLOPs are {flop1+flop2}\")"
   ]
  },
  {
   "cell_type": "code",
   "execution_count": 483,
   "metadata": {},
   "outputs": [
    {
     "data": {
      "text/plain": [
       "array([[  7.85],\n",
       "       [-19.3 ],\n",
       "       [ 71.4 ]])"
      ]
     },
     "execution_count": 483,
     "metadata": {},
     "output_type": "execute_result"
    }
   ],
   "source": [
    "np.dot(m, x1) #It is equal to b1 after substitution "
   ]
  },
  {
   "cell_type": "markdown",
   "metadata": {},
   "source": [
    "Use pivoting to solve the above and check your answers by substituting them into the original\n",
    "equation."
   ]
  },
  {
   "cell_type": "code",
   "execution_count": 484,
   "metadata": {},
   "outputs": [
    {
     "data": {
      "text/plain": [
       "array([[  3. ,  -0.1,  -0.2],\n",
       "       [  0.1,   7. ,  -0.3],\n",
       "       [  0.3,  -0.2, -10. ]])"
      ]
     },
     "execution_count": 484,
     "metadata": {},
     "output_type": "execute_result"
    }
   ],
   "source": [
    "mat2 = m.copy()\n",
    "mat2"
   ]
  },
  {
   "cell_type": "code",
   "execution_count": 485,
   "metadata": {},
   "outputs": [
    {
     "data": {
      "text/plain": [
       "array([[  7.85],\n",
       "       [-19.3 ],\n",
       "       [ 71.4 ]])"
      ]
     },
     "execution_count": 485,
     "metadata": {},
     "output_type": "execute_result"
    }
   ],
   "source": [
    "b2 = b.copy()\n",
    "b2"
   ]
  },
  {
   "cell_type": "code",
   "execution_count": 486,
   "metadata": {},
   "outputs": [],
   "source": [
    "def find(m,v):\n",
    "    n, s = m.shape\n",
    "    for i in range(n):\n",
    "        for j in range(s):\n",
    "            if m[i,j] == v:\n",
    "                return i,j\n",
    "def piviot(m, b):\n",
    "    f = 0\n",
    "    n,_ = m.shape\n",
    "    m1 = m.copy()\n",
    "    for i in range(n-1):\n",
    "        a = m[i:,i:].max()\n",
    "        x,y = find(m,a)\n",
    "        print(f\"Before Swapping \\n{m}\\n{b}\\n\\n\")\n",
    "        # m[:,i], m[:,y] = m[:,y] , m[:,i]\n",
    "        v = m[:,i].copy()\n",
    "        m[:, i] = m[:,y]\n",
    "        m[:,y] = v\n",
    "        v = m1[:,i].copy()\n",
    "        m1[:, i] = m1[:,y]\n",
    "        m1[:,y] = v\n",
    "        # m[i,:], m[x,:] = m[x,:], m[i,:]\n",
    "        v = m[i,:].copy()\n",
    "        m[i,:] = m[x,:]\n",
    "        m[x,:] = v\n",
    "        v = m1[i,:].copy()\n",
    "        m1[i,:] = m1[x,:]\n",
    "        m1[x,:] = v\n",
    "        # b[i], b[x] = b[x], b[i]\n",
    "        v = b[i].copy()\n",
    "        b[i] = b[x]\n",
    "        b[x] = v\n",
    "        print(f\"After Swapping\\n {m}\\n{b}\\n\\n\")\n",
    "        for j in range(i+1,n):\n",
    "            fact = m[j,i]/m[i,i]\n",
    "            f += 1\n",
    "            for k in range(i,n):\n",
    "                m[j,k] = m[j,k] - fact * m[i,k]\n",
    "                f += 2\n",
    "            b[j] = b[j] - fact * b[i]\n",
    "            f += 2\n",
    "    return m, b,f, m1\n"
   ]
  },
  {
   "cell_type": "code",
   "execution_count": 487,
   "metadata": {},
   "outputs": [
    {
     "name": "stdout",
     "output_type": "stream",
     "text": [
      "Before Swapping \n",
      "[[  3.   -0.1  -0.2]\n",
      " [  0.1   7.   -0.3]\n",
      " [  0.3  -0.2 -10. ]]\n",
      "[[  7.85]\n",
      " [-19.3 ]\n",
      " [ 71.4 ]]\n",
      "\n",
      "\n",
      "After Swapping\n",
      " [[  7.    0.1  -0.3]\n",
      " [ -0.1   3.   -0.2]\n",
      " [ -0.2   0.3 -10. ]]\n",
      "[[-19.3 ]\n",
      " [  7.85]\n",
      " [ 71.4 ]]\n",
      "\n",
      "\n",
      "Before Swapping \n",
      "[[  7.           0.1         -0.3       ]\n",
      " [  0.           3.00142857  -0.20428571]\n",
      " [  0.           0.30285714 -10.00857143]]\n",
      "[[-19.3       ]\n",
      " [  7.57428571]\n",
      " [ 70.84857143]]\n",
      "\n",
      "\n",
      "After Swapping\n",
      " [[  7.           0.1         -0.3       ]\n",
      " [  0.           3.00142857  -0.20428571]\n",
      " [  0.           0.30285714 -10.00857143]]\n",
      "[[-19.3       ]\n",
      " [  7.57428571]\n",
      " [ 70.84857143]]\n",
      "\n",
      "\n"
     ]
    }
   ],
   "source": [
    "mat2, b2, flop1, matrix_after_swap = piviot(mat2, b2)"
   ]
  },
  {
   "cell_type": "code",
   "execution_count": 488,
   "metadata": {},
   "outputs": [
    {
     "data": {
      "text/plain": [
       "array([[  7. ,   0.1,  -0.3],\n",
       "       [ -0.1,   3. ,  -0.2],\n",
       "       [ -0.2,   0.3, -10. ]])"
      ]
     },
     "execution_count": 488,
     "metadata": {},
     "output_type": "execute_result"
    }
   ],
   "source": [
    "matrix_after_swap"
   ]
  },
  {
   "cell_type": "code",
   "execution_count": 489,
   "metadata": {},
   "outputs": [
    {
     "data": {
      "text/plain": [
       "array([[ 7.        ,  0.1       , -0.3       ],\n",
       "       [ 0.        ,  3.00142857, -0.20428571],\n",
       "       [ 0.        ,  0.        , -9.98795812]])"
      ]
     },
     "execution_count": 489,
     "metadata": {},
     "output_type": "execute_result"
    }
   ],
   "source": [
    "mat2"
   ]
  },
  {
   "cell_type": "code",
   "execution_count": 490,
   "metadata": {},
   "outputs": [
    {
     "data": {
      "text/plain": [
       "array([[-19.3       ],\n",
       "       [  7.57428571],\n",
       "       [ 70.08429319]])"
      ]
     },
     "execution_count": 490,
     "metadata": {},
     "output_type": "execute_result"
    }
   ],
   "source": [
    "b2"
   ]
  },
  {
   "cell_type": "code",
   "execution_count": 491,
   "metadata": {},
   "outputs": [],
   "source": [
    "x2, flop2 = backward(mat2, b2)"
   ]
  },
  {
   "cell_type": "code",
   "execution_count": 492,
   "metadata": {},
   "outputs": [
    {
     "data": {
      "text/plain": [
       "array([[-3.08709441],\n",
       "       [ 2.04597159],\n",
       "       [-7.01687896]])"
      ]
     },
     "execution_count": 492,
     "metadata": {},
     "output_type": "execute_result"
    }
   ],
   "source": [
    "x2"
   ]
  },
  {
   "cell_type": "code",
   "execution_count": 493,
   "metadata": {},
   "outputs": [
    {
     "data": {
      "text/plain": [
       "array([[-19.3 ],\n",
       "       [  7.85],\n",
       "       [ 71.4 ]])"
      ]
     },
     "execution_count": 493,
     "metadata": {},
     "output_type": "execute_result"
    }
   ],
   "source": [
    "np.dot(matrix_after_swap, x2)"
   ]
  },
  {
   "cell_type": "markdown",
   "metadata": {},
   "source": [
    "Use the Gausee-Jordan technique to solve the above. Count the number of FLOPs required in\n",
    "this."
   ]
  },
  {
   "cell_type": "code",
   "execution_count": 494,
   "metadata": {},
   "outputs": [
    {
     "data": {
      "text/plain": [
       "array([[  3. ,  -0.1,  -0.2],\n",
       "       [  0.1,   7. ,  -0.3],\n",
       "       [  0.3,  -0.2, -10. ]])"
      ]
     },
     "execution_count": 494,
     "metadata": {},
     "output_type": "execute_result"
    }
   ],
   "source": [
    "mat3 = m.copy()\n",
    "mat3"
   ]
  },
  {
   "cell_type": "code",
   "execution_count": 495,
   "metadata": {},
   "outputs": [
    {
     "data": {
      "text/plain": [
       "array([[  7.85],\n",
       "       [-19.3 ],\n",
       "       [ 71.4 ]])"
      ]
     },
     "execution_count": 495,
     "metadata": {},
     "output_type": "execute_result"
    }
   ],
   "source": [
    "b3 = b.copy()\n",
    "b3"
   ]
  },
  {
   "cell_type": "code",
   "execution_count": 496,
   "metadata": {},
   "outputs": [],
   "source": [
    "def gausee_jordan(m, b):\n",
    "    n, _ = m.shape\n",
    "    f = 0\n",
    "    for i in range(n-1):\n",
    "        for j in range(i+1,n):\n",
    "            fact = m[j,i]/m[i,i]\n",
    "            f += 1\n",
    "            for k in range(i,n):\n",
    "                m[j,k] = m[j,k] - fact * m[i,k]\n",
    "                f += 2\n",
    "            b[j] = b[j] - fact * b[i]\n",
    "            f += 2\n",
    "    for i in range(n-1):\n",
    "        for j in range(i+1, n):\n",
    "            fact = m[n-1-j, n-1-i]/m[n-1-i,n-1-i]\n",
    "            f +=1\n",
    "            for k in range(i,n):\n",
    "                m[n-1-j, n-1-k] = m[n-1-j, n-1-k] - fact * m[n-1-i,n-1-k]\n",
    "                f += 2\n",
    "            b[n-1-j] = b[n-1-j] - fact * b[n-1-i]\n",
    "            f += 2\n",
    "    return m,b,f\n",
    "\n",
    "        "
   ]
  },
  {
   "cell_type": "code",
   "execution_count": 497,
   "metadata": {},
   "outputs": [],
   "source": [
    "mat3 , b3, flop1 = gausee_jordan(mat3, b)"
   ]
  },
  {
   "cell_type": "code",
   "execution_count": 498,
   "metadata": {},
   "outputs": [
    {
     "data": {
      "text/plain": [
       "array([[ 3.        ,  0.        ,  0.        ],\n",
       "       [ 0.        ,  7.00333333,  0.        ],\n",
       "       [ 0.        ,  0.        , -9.98795812]])"
      ]
     },
     "execution_count": 498,
     "metadata": {},
     "output_type": "execute_result"
    }
   ],
   "source": [
    "mat3"
   ]
  },
  {
   "cell_type": "code",
   "execution_count": 499,
   "metadata": {},
   "outputs": [
    {
     "data": {
      "text/plain": [
       "array([[  6.13791477],\n",
       "       [-21.61995116],\n",
       "       [ 70.08429319]])"
      ]
     },
     "execution_count": 499,
     "metadata": {},
     "output_type": "execute_result"
    }
   ],
   "source": [
    "b3"
   ]
  },
  {
   "cell_type": "code",
   "execution_count": 500,
   "metadata": {},
   "outputs": [],
   "source": [
    "def back_jordan(m,b):\n",
    "    n, _ = m.shape\n",
    "    x = np.zeros((n,1))\n",
    "    f = 0\n",
    "    for i in range(n):\n",
    "        x[i] = b[i]/m[i,i]\n",
    "        f += 1\n",
    "    return x, f\n"
   ]
  },
  {
   "cell_type": "code",
   "execution_count": 501,
   "metadata": {},
   "outputs": [],
   "source": [
    "x3,flop2 = back_jordan(mat3, b3)"
   ]
  },
  {
   "cell_type": "code",
   "execution_count": 502,
   "metadata": {},
   "outputs": [
    {
     "data": {
      "text/plain": [
       "array([[ 2.04597159],\n",
       "       [-3.08709441],\n",
       "       [-7.01687896]])"
      ]
     },
     "execution_count": 502,
     "metadata": {},
     "output_type": "execute_result"
    }
   ],
   "source": [
    "x3"
   ]
  },
  {
   "cell_type": "code",
   "execution_count": 503,
   "metadata": {},
   "outputs": [
    {
     "name": "stdout",
     "output_type": "stream",
     "text": [
      "The FLOP for gauss jordan is 53\n"
     ]
    }
   ],
   "source": [
    "print(f\"The FLOP for gauss jordan is {flop1 + flop2}\")"
   ]
  },
  {
   "cell_type": "code",
   "execution_count": null,
   "metadata": {},
   "outputs": [],
   "source": []
  }
 ],
 "metadata": {
  "kernelspec": {
   "display_name": "Python 3",
   "language": "python",
   "name": "python3"
  },
  "language_info": {
   "codemirror_mode": {
    "name": "ipython",
    "version": 3
   },
   "file_extension": ".py",
   "mimetype": "text/x-python",
   "name": "python",
   "nbconvert_exporter": "python",
   "pygments_lexer": "ipython3",
   "version": "3.11.5"
  }
 },
 "nbformat": 4,
 "nbformat_minor": 2
}
