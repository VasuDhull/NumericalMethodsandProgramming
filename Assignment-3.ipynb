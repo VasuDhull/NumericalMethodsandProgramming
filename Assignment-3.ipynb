{
 "cells": [
  {
   "cell_type": "code",
   "execution_count": 1,
   "metadata": {},
   "outputs": [],
   "source": [
    "import numpy as np"
   ]
  },
  {
   "cell_type": "markdown",
   "metadata": {},
   "source": [
    "The equations are as follow:\n",
    "                                            \n",
    "3 x1 − 0.1 x2 − 0.2 x3 = 7.85\n",
    "\n",
    "0.1 x1 + 7 x2 − 0.3 x3 = −19.3\n",
    "\n",
    "0.3 x1     − 0.2 x2 − 10 x3 = 71.4"
   ]
  },
  {
   "cell_type": "code",
   "execution_count": 2,
   "metadata": {},
   "outputs": [],
   "source": [
    "def matrix(n):\n",
    "    a = np.zeros((n,n))\n",
    "    for i in range(n):\n",
    "        for j in range(n):\n",
    "            a[i,j] = float(input())\n",
    "    return a\n",
    "\n",
    "def b(n):\n",
    "    a = np.zeros((n,1))\n",
    "    for i in range(n):\n",
    "        a[i,0]=float(input())\n",
    "    return a"
   ]
  },
  {
   "cell_type": "code",
   "execution_count": 3,
   "metadata": {},
   "outputs": [],
   "source": [
    "n = 3\n",
    "# m = matrix(n)\n",
    "# b = b(n)\n",
    "m = np.array([[  3. ,  -0.1,  -0.2],\n",
    "       [  0.1,   7. ,  -0.3],\n",
    "       [  0.3,  -0.2, -10. ]])\n",
    "\n",
    "b = np.array([[  7.85],\n",
    "       [-19.3 ],\n",
    "       [ 71.4 ]])"
   ]
  },
  {
   "cell_type": "code",
   "execution_count": 4,
   "metadata": {},
   "outputs": [
    {
     "data": {
      "text/plain": [
       "array([[  3. ,  -0.1,  -0.2],\n",
       "       [  0.1,   7. ,  -0.3],\n",
       "       [  0.3,  -0.2, -10. ]])"
      ]
     },
     "execution_count": 4,
     "metadata": {},
     "output_type": "execute_result"
    }
   ],
   "source": [
    "mat = m.copy()\n",
    "mat"
   ]
  },
  {
   "cell_type": "code",
   "execution_count": 5,
   "metadata": {},
   "outputs": [
    {
     "data": {
      "text/plain": [
       "array([[  7.85],\n",
       "       [-19.3 ],\n",
       "       [ 71.4 ]])"
      ]
     },
     "execution_count": 5,
     "metadata": {},
     "output_type": "execute_result"
    }
   ],
   "source": [
    "b1 = b.copy()\n",
    "b1"
   ]
  },
  {
   "cell_type": "markdown",
   "metadata": {},
   "source": [
    "Write a program to employ LU decomposition to get the solution.\n",
    "Check your answers by substituting them into the original equation."
   ]
  },
  {
   "cell_type": "code",
   "execution_count": 6,
   "metadata": {},
   "outputs": [],
   "source": [
    "def LU_decomp(m): \n",
    "    n, n = m.shape\n",
    "    l = np.identity(n)\n",
    "    for i in range(n-1):\n",
    "        for j in range(i+1,n):\n",
    "            fact = m[j,i]/m[i,i]\n",
    "            l[j,i] = fact\n",
    "            for k in range(i,n):\n",
    "                m[j,k] = m[j,k] - fact * m[i,k]\n",
    "    return m, l"
   ]
  },
  {
   "cell_type": "code",
   "execution_count": 7,
   "metadata": {},
   "outputs": [],
   "source": [
    "u, l = LU_decomp(mat)"
   ]
  },
  {
   "cell_type": "code",
   "execution_count": 8,
   "metadata": {},
   "outputs": [
    {
     "data": {
      "text/plain": [
       "array([[ 3.        , -0.1       , -0.2       ],\n",
       "       [ 0.        ,  7.00333333, -0.29333333],\n",
       "       [ 0.        ,  0.        , -9.98795812]])"
      ]
     },
     "execution_count": 8,
     "metadata": {},
     "output_type": "execute_result"
    }
   ],
   "source": [
    "u"
   ]
  },
  {
   "cell_type": "code",
   "execution_count": 9,
   "metadata": {},
   "outputs": [
    {
     "data": {
      "text/plain": [
       "array([[ 1.        ,  0.        ,  0.        ],\n",
       "       [ 0.03333333,  1.        ,  0.        ],\n",
       "       [ 0.1       , -0.02712994,  1.        ]])"
      ]
     },
     "execution_count": 9,
     "metadata": {},
     "output_type": "execute_result"
    }
   ],
   "source": [
    "l"
   ]
  },
  {
   "cell_type": "code",
   "execution_count": 10,
   "metadata": {},
   "outputs": [
    {
     "data": {
      "text/plain": [
       "array([[  3. ,  -0.1,  -0.2],\n",
       "       [  0.1,   7. ,  -0.3],\n",
       "       [  0.3,  -0.2, -10. ]])"
      ]
     },
     "execution_count": 10,
     "metadata": {},
     "output_type": "execute_result"
    }
   ],
   "source": [
    "np.dot(l,u) # After substituting them together"
   ]
  },
  {
   "cell_type": "code",
   "execution_count": 11,
   "metadata": {},
   "outputs": [],
   "source": [
    "def d(l,b):\n",
    "    n,_ = l.shape\n",
    "    d = np.zeros((n,1))\n",
    "    for j in range(n):\n",
    "            d[j] = b[j]\n",
    "            for k in range(j):\n",
    "                d[j] -= l[j,k]*d[k]\n",
    "    return d"
   ]
  },
  {
   "cell_type": "code",
   "execution_count": 12,
   "metadata": {},
   "outputs": [
    {
     "data": {
      "text/plain": [
       "array([[  7.85      ],\n",
       "       [-19.56166667],\n",
       "       [ 70.08429319]])"
      ]
     },
     "execution_count": 12,
     "metadata": {},
     "output_type": "execute_result"
    }
   ],
   "source": [
    "d(l,b1)"
   ]
  },
  {
   "cell_type": "code",
   "execution_count": 13,
   "metadata": {},
   "outputs": [],
   "source": [
    "def x(u,l,b,d):\n",
    "    n,_ = u.shape\n",
    "    x = np.zeros((3,1))\n",
    "    z1 = d(l,b)\n",
    "    for i in range(n):\n",
    "        x[n-1-i] = z1[n-1-i]/u[n-1-i,n-1-i]\n",
    "        for j in range(i):\n",
    "            x[n-1-i] -= (u[n-1-i,n-1-j] * x[n-1-j]) / u[n-1-i,n-1-i]\n",
    "    return x"
   ]
  },
  {
   "cell_type": "code",
   "execution_count": 14,
   "metadata": {},
   "outputs": [
    {
     "data": {
      "text/plain": [
       "array([[ 2.04597159],\n",
       "       [-3.08709441],\n",
       "       [-7.01687896]])"
      ]
     },
     "execution_count": 14,
     "metadata": {},
     "output_type": "execute_result"
    }
   ],
   "source": [
    "x = x(u,l,b1,d)\n",
    "x"
   ]
  },
  {
   "cell_type": "code",
   "execution_count": 15,
   "metadata": {},
   "outputs": [
    {
     "data": {
      "text/plain": [
       "array([[  3. ,  -0.1,  -0.2],\n",
       "       [  0.1,   7. ,  -0.3],\n",
       "       [  0.3,  -0.2, -10. ]])"
      ]
     },
     "execution_count": 15,
     "metadata": {},
     "output_type": "execute_result"
    }
   ],
   "source": [
    "m1 = m.copy()\n",
    "m1"
   ]
  },
  {
   "cell_type": "code",
   "execution_count": 16,
   "metadata": {},
   "outputs": [
    {
     "data": {
      "text/plain": [
       "array([[  7.85],\n",
       "       [-19.3 ],\n",
       "       [ 71.4 ]])"
      ]
     },
     "execution_count": 16,
     "metadata": {},
     "output_type": "execute_result"
    }
   ],
   "source": [
    "np.dot(m1,x) #Equal to b => Ax - B = 0"
   ]
  },
  {
   "cell_type": "markdown",
   "metadata": {},
   "source": [
    "Find the inverse of the matrix [A] made up of the L.H.S of the above equation. Check your\n",
    "answer by multiplying it by original matrix."
   ]
  },
  {
   "cell_type": "code",
   "execution_count": 17,
   "metadata": {},
   "outputs": [],
   "source": [
    "def z(l, a):\n",
    "    c = np.identity(3)\n",
    "    z = np.zeros((3,1))\n",
    "    for j in range(n):\n",
    "            z[j] = c[j,a]\n",
    "            for k in range(j):\n",
    "                z[j] -= l[j,k]*z[k]\n",
    "    return z\n"
   ]
  },
  {
   "cell_type": "code",
   "execution_count": 18,
   "metadata": {},
   "outputs": [
    {
     "data": {
      "text/plain": [
       "array([[ 1.        ],\n",
       "       [-0.03333333],\n",
       "       [-0.10090433]])"
      ]
     },
     "execution_count": 18,
     "metadata": {},
     "output_type": "execute_result"
    }
   ],
   "source": [
    "z(l, 0)"
   ]
  },
  {
   "cell_type": "code",
   "execution_count": 19,
   "metadata": {},
   "outputs": [
    {
     "data": {
      "text/plain": [
       "array([[0.        ],\n",
       "       [1.        ],\n",
       "       [0.02712994]])"
      ]
     },
     "execution_count": 19,
     "metadata": {},
     "output_type": "execute_result"
    }
   ],
   "source": [
    "z(l,1)"
   ]
  },
  {
   "cell_type": "code",
   "execution_count": 20,
   "metadata": {},
   "outputs": [
    {
     "data": {
      "text/plain": [
       "array([[0.],\n",
       "       [0.],\n",
       "       [1.]])"
      ]
     },
     "execution_count": 20,
     "metadata": {},
     "output_type": "execute_result"
    }
   ],
   "source": [
    "z(l,2)"
   ]
  },
  {
   "cell_type": "code",
   "execution_count": 21,
   "metadata": {},
   "outputs": [],
   "source": [
    "def x(u,l,a):\n",
    "    n,_ = u.shape\n",
    "    x = np.zeros((3,1))\n",
    "    z1 = z(l,a)\n",
    "    for i in range(n):\n",
    "        x[n-1-i] = z1[n-1-i]/u[n-1-i,n-1-i]\n",
    "        for j in range(i):\n",
    "            x[n-1-i] -= (u[n-1-i,n-1-j] * x[n-1-j]) / u[n-1-i,n-1-i]\n",
    "    return x\n",
    "\n"
   ]
  },
  {
   "cell_type": "code",
   "execution_count": 22,
   "metadata": {},
   "outputs": [],
   "source": [
    "def inverse_lu(l,u,x):\n",
    "    n,_ = m.shape\n",
    "    x_list = []\n",
    "    for i in range(n):\n",
    "        x1 = x(u,l,i)\n",
    "        x_list.append(x1)\n",
    "    x = np.zeros((n,n))\n",
    "    for i in range(n):\n",
    "        x_1 = x_list[i]\n",
    "        x[:,i] = x_1[:,0]\n",
    "    return x\n",
    "\n",
    "def inverse_m_usingLU(m,x):\n",
    "    u, l = LU_decomp(m)\n",
    "    n,_ = m.shape\n",
    "    x_list = []\n",
    "    for i in range(n):\n",
    "        x1 = x(u,l,i)\n",
    "        x_list.append(x1)\n",
    "    x = np.zeros((n,n))\n",
    "    for i in range(n):\n",
    "        x_1 = x_list[i]\n",
    "        x[:,i] = x_1[:,0]\n",
    "    return x"
   ]
  },
  {
   "cell_type": "code",
   "execution_count": 23,
   "metadata": {},
   "outputs": [
    {
     "data": {
      "text/plain": [
       "array([[ 0.33386229,  0.00457476, -0.00681449],\n",
       "       [-0.00433649,  0.14267538, -0.00419353],\n",
       "       [ 0.0101026 , -0.00271626, -0.10012056]])"
      ]
     },
     "execution_count": 23,
     "metadata": {},
     "output_type": "execute_result"
    }
   ],
   "source": [
    "m1 = m.copy()\n",
    "inverse_m_usingLU(m1,x)"
   ]
  },
  {
   "cell_type": "code",
   "execution_count": 24,
   "metadata": {},
   "outputs": [
    {
     "data": {
      "text/plain": [
       "array([[ 0.33386229,  0.00457476, -0.00681449],\n",
       "       [-0.00433649,  0.14267538, -0.00419353],\n",
       "       [ 0.0101026 , -0.00271626, -0.10012056]])"
      ]
     },
     "execution_count": 24,
     "metadata": {},
     "output_type": "execute_result"
    }
   ],
   "source": [
    "inverse_lu(l,u, x)"
   ]
  },
  {
   "cell_type": "code",
   "execution_count": 26,
   "metadata": {},
   "outputs": [
    {
     "data": {
      "text/plain": [
       "array([[ 1.00000000e+00,  5.95139782e-19, -1.66399601e-18],\n",
       "       [ 0.00000000e+00,  1.00000000e+00,  3.94147021e-18],\n",
       "       [ 0.00000000e+00,  0.00000000e+00,  1.00000000e+00]])"
      ]
     },
     "execution_count": 26,
     "metadata": {},
     "output_type": "execute_result"
    }
   ],
   "source": [
    "m1 = m.copy()\n",
    "m_1 = inverse_m_usingLU(m,x)\n",
    "np.dot(m1,m_1) #Almost equal to Identity, the upper tringular matrix is close to 0 (10^(-18) -> 0)"
   ]
  },
  {
   "cell_type": "code",
   "execution_count": null,
   "metadata": {},
   "outputs": [],
   "source": []
  }
 ],
 "metadata": {
  "kernelspec": {
   "display_name": "Python 3",
   "language": "python",
   "name": "python3"
  },
  "language_info": {
   "codemirror_mode": {
    "name": "ipython",
    "version": 3
   },
   "file_extension": ".py",
   "mimetype": "text/x-python",
   "name": "python",
   "nbconvert_exporter": "python",
   "pygments_lexer": "ipython3",
   "version": "3.11.5"
  }
 },
 "nbformat": 4,
 "nbformat_minor": 2
}
