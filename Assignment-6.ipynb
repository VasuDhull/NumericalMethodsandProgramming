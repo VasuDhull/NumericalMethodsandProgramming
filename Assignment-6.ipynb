{
 "cells": [
  {
   "cell_type": "code",
   "execution_count": 1,
   "metadata": {},
   "outputs": [],
   "source": [
    "def f(x):\n",
    "    return 0.2 + (25*x) - (200*(x**2)) + 675 * (x**3) - 900 * (x**4) + 400 * (x**5)"
   ]
  },
  {
   "cell_type": "code",
   "execution_count": 2,
   "metadata": {},
   "outputs": [],
   "source": [
    "def trapazoidal(f,a,b):\n",
    "    return (b-a)*(f(b)-f(a))/2"
   ]
  },
  {
   "cell_type": "code",
   "execution_count": 3,
   "metadata": {},
   "outputs": [],
   "source": [
    "def simpson_13(f,a,b):\n",
    "    return (b-a)*(f(a)+(4*f((a+b)/2))+f(b))/6"
   ]
  },
  {
   "cell_type": "code",
   "execution_count": 4,
   "metadata": {},
   "outputs": [],
   "source": [
    "def simpson_38(f,a,b):\n",
    "    x1 = (b-a)/3 + a\n",
    "    x2 = (b-a)*(2/3) + a\n",
    "    return (b-a) * (f(a) + 3*f(x1) + 3*f(x2) + f(b))/ 8"
   ]
  },
  {
   "cell_type": "code",
   "execution_count": 5,
   "metadata": {},
   "outputs": [],
   "source": [
    "a = 0\n",
    "b = 0.8\n",
    "i = 1.6405"
   ]
  },
  {
   "cell_type": "code",
   "execution_count": 6,
   "metadata": {},
   "outputs": [
    {
     "data": {
      "text/plain": [
       "0.01280000000002246"
      ]
     },
     "execution_count": 6,
     "metadata": {},
     "output_type": "execute_result"
    }
   ],
   "source": [
    "t = trapazoidal(f,a,b)\n",
    "t"
   ]
  },
  {
   "cell_type": "code",
   "execution_count": 7,
   "metadata": {},
   "outputs": [
    {
     "name": "stdout",
     "output_type": "stream",
     "text": [
      "Calculated by simpson 1/3 = 1.3674666666666744\n",
      "Percentage error = 16.643299806968955 %\n"
     ]
    }
   ],
   "source": [
    "s1 = simpson_13(f,a,b)\n",
    "print(f\"Calculated by simpson 1/3 = {s1}\\nPercentage error = {((i-s1)/i) * 100} %\")"
   ]
  },
  {
   "cell_type": "code",
   "execution_count": 8,
   "metadata": {},
   "outputs": [
    {
     "name": "stdout",
     "output_type": "stream",
     "text": [
      "Calculated by simpson 3/8 = 1.519170370370378\n",
      "Percentage error = 7.39589330262859 %\n"
     ]
    }
   ],
   "source": [
    "s2 = simpson_38(f,a,b)\n",
    "print(f\"Calculated by simpson 3/8 = {s2}\\nPercentage error = {((i-s2)/i) * 100} %\")"
   ]
  },
  {
   "cell_type": "code",
   "execution_count": 9,
   "metadata": {},
   "outputs": [],
   "source": [
    "def multitrap(f,a,b,n):\n",
    "    h = (b-a)/n\n",
    "    s = 0\n",
    "    k = (b-a)/n\n",
    "    for i in range(n-1):\n",
    "        s = s + f(a + k)\n",
    "        a = a + k\n",
    "    return h*(f(a) + f(b) + 2*s)/2\n"
   ]
  },
  {
   "cell_type": "code",
   "execution_count": 10,
   "metadata": {},
   "outputs": [
    {
     "data": {
      "text/plain": [
       "1.641143700632373"
      ]
     },
     "execution_count": 10,
     "metadata": {},
     "output_type": "execute_result"
    }
   ],
   "source": [
    "multitrap(f,a,b,100)"
   ]
  },
  {
   "cell_type": "code",
   "execution_count": 11,
   "metadata": {},
   "outputs": [],
   "source": [
    "def multi_simp13(f,a,b,n):\n",
    "    h = (b-a)/n\n",
    "    s_even, s_odd = 0,0\n",
    "    k = (b-a)/n\n",
    "    for i in range(1,n,2):\n",
    "        s_odd += f(a + i*k)\n",
    "    for i in range(2,n,2):\n",
    "        s_even += f(a + i*k)\n",
    "    s = 4*s_odd + 2*s_even + f(a) + f(b)\n",
    "    s = s/3\n",
    "    return h*s"
   ]
  },
  {
   "cell_type": "code",
   "execution_count": 12,
   "metadata": {},
   "outputs": [
    {
     "data": {
      "text/plain": [
       "1.6405332896426679"
      ]
     },
     "execution_count": 12,
     "metadata": {},
     "output_type": "execute_result"
    }
   ],
   "source": [
    "multi_simp13(f,a,b,100)"
   ]
  },
  {
   "cell_type": "code",
   "execution_count": null,
   "metadata": {},
   "outputs": [],
   "source": []
  }
 ],
 "metadata": {
  "kernelspec": {
   "display_name": "Python 3",
   "language": "python",
   "name": "python3"
  },
  "language_info": {
   "codemirror_mode": {
    "name": "ipython",
    "version": 3
   },
   "file_extension": ".py",
   "mimetype": "text/x-python",
   "name": "python",
   "nbconvert_exporter": "python",
   "pygments_lexer": "ipython3",
   "version": "3.11.5"
  }
 },
 "nbformat": 4,
 "nbformat_minor": 2
}
